{
  "nbformat": 4,
  "nbformat_minor": 0,
  "metadata": {
    "colab": {
      "provenance": [],
      "authorship_tag": "ABX9TyNDCXY1erlezQsG5ZAST8CH",
      "include_colab_link": true
    },
    "kernelspec": {
      "name": "python3",
      "display_name": "Python 3"
    },
    "language_info": {
      "name": "python"
    }
  },
  "cells": [
    {
      "cell_type": "markdown",
      "metadata": {
        "id": "view-in-github",
        "colab_type": "text"
      },
      "source": [
        "<a href=\"https://colab.research.google.com/github/reemalsubaiee/Random/blob/main/Untitled0.ipynb\" target=\"_parent\"><img src=\"https://colab.research.google.com/assets/colab-badge.svg\" alt=\"Open In Colab\"/></a>"
      ]
    },
    {
      "cell_type": "code",
      "execution_count": 20,
      "metadata": {
        "colab": {
          "base_uri": "https://localhost:8080/"
        },
        "id": "GUR21T8qtvEr",
        "outputId": "7ee6fa3e-2906-4627-b8ec-764381b7f5f4"
      },
      "outputs": [
        {
          "output_type": "stream",
          "name": "stdout",
          "text": [
            "[  1  51 101]\n"
          ]
        }
      ],
      "source": [
        "import numpy as np\n",
        "import matplotlib.pyplot as plt\n",
        "\n",
        "\n",
        "x=np.arange(1,102,50)\n",
        "print(x)\n"
      ]
    },
    {
      "cell_type": "code",
      "source": [
        "x=np.linspace(1,100,50)\n",
        "print(x)\n",
        "\n",
        "y=90\n",
        "y1=np.deg2rad(y)\n",
        "z=sin(y1)\n",
        "print(z)\n"
      ],
      "metadata": {
        "colab": {
          "base_uri": "https://localhost:8080/"
        },
        "id": "3Xi9HkPGwyXn",
        "outputId": "ddcc75ea-5f2b-44a5-a617-4ef1e7750faf"
      },
      "execution_count": 34,
      "outputs": [
        {
          "output_type": "stream",
          "name": "stdout",
          "text": [
            "[  1.           3.02040816   5.04081633   7.06122449   9.08163265\n",
            "  11.10204082  13.12244898  15.14285714  17.16326531  19.18367347\n",
            "  21.20408163  23.2244898   25.24489796  27.26530612  29.28571429\n",
            "  31.30612245  33.32653061  35.34693878  37.36734694  39.3877551\n",
            "  41.40816327  43.42857143  45.44897959  47.46938776  49.48979592\n",
            "  51.51020408  53.53061224  55.55102041  57.57142857  59.59183673\n",
            "  61.6122449   63.63265306  65.65306122  67.67346939  69.69387755\n",
            "  71.71428571  73.73469388  75.75510204  77.7755102   79.79591837\n",
            "  81.81632653  83.83673469  85.85714286  87.87755102  89.89795918\n",
            "  91.91836735  93.93877551  95.95918367  97.97959184 100.        ]\n",
            "1.0\n"
          ]
        }
      ]
    }
  ]
}