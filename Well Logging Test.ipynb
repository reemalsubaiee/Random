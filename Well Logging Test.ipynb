{
  "nbformat": 4,
  "nbformat_minor": 0,
  "metadata": {
    "colab": {
      "provenance": [],
      "authorship_tag": "ABX9TyOxuGUJPw8uIivgtUaoQqzR",
      "include_colab_link": true
    },
    "kernelspec": {
      "name": "python3",
      "display_name": "Python 3"
    },
    "language_info": {
      "name": "python"
    }
  },
  "cells": [
    {
      "cell_type": "markdown",
      "metadata": {
        "id": "view-in-github",
        "colab_type": "text"
      },
      "source": [
        "<a href=\"https://colab.research.google.com/github/reemalsubaiee/Random/blob/main/Well%20Logging%20Test.ipynb\" target=\"_parent\"><img src=\"https://colab.research.google.com/assets/colab-badge.svg\" alt=\"Open In Colab\"/></a>"
      ]
    },
    {
      "cell_type": "code",
      "execution_count": null,
      "metadata": {
        "id": "wut97zed2Ky5"
      },
      "outputs": [],
      "source": [
        "!pip install lasio\n"
      ]
    },
    {
      "cell_type": "code",
      "source": [
        "import pandas as pd\n",
        "import matplotlib.pyplot as plt\n",
        "\n",
        "import lasio\n",
        "\n",
        "las = lasio.read(\"marauder_2_pex_main.las\")"
      ],
      "metadata": {
        "id": "KZkCBKrA4HaY"
      },
      "execution_count": 6,
      "outputs": []
    },
    {
      "cell_type": "code",
      "source": [
        "las.sections.keys()\n"
      ],
      "metadata": {
        "colab": {
          "base_uri": "https://localhost:8080/"
        },
        "id": "caJFUtd-lsRi",
        "outputId": "5f0fbe34-e883-47f1-ac5a-bc63c691b865"
      },
      "execution_count": 29,
      "outputs": [
        {
          "output_type": "execute_result",
          "data": {
            "text/plain": [
              "dict_keys(['Version', 'Well', 'Curves', 'Parameter', 'Other'])"
            ]
          },
          "metadata": {},
          "execution_count": 29
        }
      ]
    },
    {
      "cell_type": "code",
      "source": [
        "for curve in las.curves:\n",
        "  print (f\"Curve: {Curves.mnemonic}, \\t Units: {Curves.unit},  \\t Description: {Curves.descr}\")"
      ],
      "metadata": {
        "colab": {
          "base_uri": "https://localhost:8080/"
        },
        "id": "2rKPKNT4mDWp",
        "outputId": "e7c1b66b-f57c-4535-ee10-67cbe08a39cb"
      },
      "execution_count": 30,
      "outputs": [
        {
          "output_type": "stream",
          "name": "stdout",
          "text": [
            "Curve: SP, \t Units: MV,  \t Description: Spontaneous Potential {F13.4}\n",
            "Curve: SP, \t Units: MV,  \t Description: Spontaneous Potential {F13.4}\n",
            "Curve: SP, \t Units: MV,  \t Description: Spontaneous Potential {F13.4}\n",
            "Curve: SP, \t Units: MV,  \t Description: Spontaneous Potential {F13.4}\n",
            "Curve: SP, \t Units: MV,  \t Description: Spontaneous Potential {F13.4}\n",
            "Curve: SP, \t Units: MV,  \t Description: Spontaneous Potential {F13.4}\n",
            "Curve: SP, \t Units: MV,  \t Description: Spontaneous Potential {F13.4}\n",
            "Curve: SP, \t Units: MV,  \t Description: Spontaneous Potential {F13.4}\n",
            "Curve: SP, \t Units: MV,  \t Description: Spontaneous Potential {F13.4}\n",
            "Curve: SP, \t Units: MV,  \t Description: Spontaneous Potential {F13.4}\n",
            "Curve: SP, \t Units: MV,  \t Description: Spontaneous Potential {F13.4}\n",
            "Curve: SP, \t Units: MV,  \t Description: Spontaneous Potential {F13.4}\n",
            "Curve: SP, \t Units: MV,  \t Description: Spontaneous Potential {F13.4}\n",
            "Curve: SP, \t Units: MV,  \t Description: Spontaneous Potential {F13.4}\n",
            "Curve: SP, \t Units: MV,  \t Description: Spontaneous Potential {F13.4}\n",
            "Curve: SP, \t Units: MV,  \t Description: Spontaneous Potential {F13.4}\n",
            "Curve: SP, \t Units: MV,  \t Description: Spontaneous Potential {F13.4}\n",
            "Curve: SP, \t Units: MV,  \t Description: Spontaneous Potential {F13.4}\n",
            "Curve: SP, \t Units: MV,  \t Description: Spontaneous Potential {F13.4}\n",
            "Curve: SP, \t Units: MV,  \t Description: Spontaneous Potential {F13.4}\n",
            "Curve: SP, \t Units: MV,  \t Description: Spontaneous Potential {F13.4}\n",
            "Curve: SP, \t Units: MV,  \t Description: Spontaneous Potential {F13.4}\n",
            "Curve: SP, \t Units: MV,  \t Description: Spontaneous Potential {F13.4}\n",
            "Curve: SP, \t Units: MV,  \t Description: Spontaneous Potential {F13.4}\n",
            "Curve: SP, \t Units: MV,  \t Description: Spontaneous Potential {F13.4}\n",
            "Curve: SP, \t Units: MV,  \t Description: Spontaneous Potential {F13.4}\n",
            "Curve: SP, \t Units: MV,  \t Description: Spontaneous Potential {F13.4}\n",
            "Curve: SP, \t Units: MV,  \t Description: Spontaneous Potential {F13.4}\n",
            "Curve: SP, \t Units: MV,  \t Description: Spontaneous Potential {F13.4}\n",
            "Curve: SP, \t Units: MV,  \t Description: Spontaneous Potential {F13.4}\n",
            "Curve: SP, \t Units: MV,  \t Description: Spontaneous Potential {F13.4}\n",
            "Curve: SP, \t Units: MV,  \t Description: Spontaneous Potential {F13.4}\n",
            "Curve: SP, \t Units: MV,  \t Description: Spontaneous Potential {F13.4}\n",
            "Curve: SP, \t Units: MV,  \t Description: Spontaneous Potential {F13.4}\n",
            "Curve: SP, \t Units: MV,  \t Description: Spontaneous Potential {F13.4}\n",
            "Curve: SP, \t Units: MV,  \t Description: Spontaneous Potential {F13.4}\n",
            "Curve: SP, \t Units: MV,  \t Description: Spontaneous Potential {F13.4}\n",
            "Curve: SP, \t Units: MV,  \t Description: Spontaneous Potential {F13.4}\n",
            "Curve: SP, \t Units: MV,  \t Description: Spontaneous Potential {F13.4}\n",
            "Curve: SP, \t Units: MV,  \t Description: Spontaneous Potential {F13.4}\n",
            "Curve: SP, \t Units: MV,  \t Description: Spontaneous Potential {F13.4}\n",
            "Curve: SP, \t Units: MV,  \t Description: Spontaneous Potential {F13.4}\n",
            "Curve: SP, \t Units: MV,  \t Description: Spontaneous Potential {F13.4}\n",
            "Curve: SP, \t Units: MV,  \t Description: Spontaneous Potential {F13.4}\n",
            "Curve: SP, \t Units: MV,  \t Description: Spontaneous Potential {F13.4}\n",
            "Curve: SP, \t Units: MV,  \t Description: Spontaneous Potential {F13.4}\n",
            "Curve: SP, \t Units: MV,  \t Description: Spontaneous Potential {F13.4}\n",
            "Curve: SP, \t Units: MV,  \t Description: Spontaneous Potential {F13.4}\n",
            "Curve: SP, \t Units: MV,  \t Description: Spontaneous Potential {F13.4}\n",
            "Curve: SP, \t Units: MV,  \t Description: Spontaneous Potential {F13.4}\n",
            "Curve: SP, \t Units: MV,  \t Description: Spontaneous Potential {F13.4}\n",
            "Curve: SP, \t Units: MV,  \t Description: Spontaneous Potential {F13.4}\n",
            "Curve: SP, \t Units: MV,  \t Description: Spontaneous Potential {F13.4}\n",
            "Curve: SP, \t Units: MV,  \t Description: Spontaneous Potential {F13.4}\n",
            "Curve: SP, \t Units: MV,  \t Description: Spontaneous Potential {F13.4}\n",
            "Curve: SP, \t Units: MV,  \t Description: Spontaneous Potential {F13.4}\n",
            "Curve: SP, \t Units: MV,  \t Description: Spontaneous Potential {F13.4}\n",
            "Curve: SP, \t Units: MV,  \t Description: Spontaneous Potential {F13.4}\n",
            "Curve: SP, \t Units: MV,  \t Description: Spontaneous Potential {F13.4}\n",
            "Curve: SP, \t Units: MV,  \t Description: Spontaneous Potential {F13.4}\n"
          ]
        }
      ]
    }
  ]
}